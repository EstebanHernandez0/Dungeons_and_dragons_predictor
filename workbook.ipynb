{
 "cells": [
  {
   "cell_type": "code",
   "execution_count": 1,
   "id": "3829bb61",
   "metadata": {},
   "outputs": [],
   "source": [
    "import pandas as pd\n",
    "import numpy as np\n",
    "import matplotlib.pyplot as plt\n",
    "import model as m\n",
    "import os\n",
    "import seaborn as sns\n",
    "from math import sqrt\n",
    "from scipy import stats\n",
    "from pydataset import data\n",
    "# ignore warnings\n",
    "import warnings\n",
    "warnings.filterwarnings(\"ignore\")\n",
    "\n",
    "from sklearn.model_selection import train_test_split\n",
    "from sklearn.preprocessing import MinMaxScaler, PolynomialFeatures\n",
    "from sklearn.feature_selection import f_regression, SelectKBest, RFE \n",
    "from sklearn.linear_model import LinearRegression, LassoLars, TweedieRegressor\n",
    "from sklearn.metrics import mean_squared_error\n",
    "from sklearn.cluster import KMeans\n",
    "from sklearn.preprocessing import MinMaxScaler"
   ]
  },
  {
   "cell_type": "markdown",
   "id": "3e4509bb",
   "metadata": {},
   "source": [
    "# Wrangaling the data"
   ]
  },
  {
   "cell_type": "code",
   "execution_count": 2,
   "id": "707e7cf8",
   "metadata": {},
   "outputs": [
    {
     "data": {
      "text/html": [
       "<div>\n",
       "<style scoped>\n",
       "    .dataframe tbody tr th:only-of-type {\n",
       "        vertical-align: middle;\n",
       "    }\n",
       "\n",
       "    .dataframe tbody tr th {\n",
       "        vertical-align: top;\n",
       "    }\n",
       "\n",
       "    .dataframe thead th {\n",
       "        text-align: right;\n",
       "    }\n",
       "</style>\n",
       "<table border=\"1\" class=\"dataframe\">\n",
       "  <thead>\n",
       "    <tr style=\"text-align: right;\">\n",
       "      <th></th>\n",
       "      <th>race</th>\n",
       "      <th>height</th>\n",
       "      <th>weight</th>\n",
       "      <th>speed</th>\n",
       "      <th>strength</th>\n",
       "      <th>dexterity</th>\n",
       "      <th>constitution</th>\n",
       "      <th>intelligence</th>\n",
       "      <th>wisdom</th>\n",
       "      <th>charisma</th>\n",
       "    </tr>\n",
       "  </thead>\n",
       "  <tbody>\n",
       "    <tr>\n",
       "      <th>0</th>\n",
       "      <td>dragonborn</td>\n",
       "      <td>71</td>\n",
       "      <td>195</td>\n",
       "      <td>30</td>\n",
       "      <td>14</td>\n",
       "      <td>15</td>\n",
       "      <td>12</td>\n",
       "      <td>7</td>\n",
       "      <td>13</td>\n",
       "      <td>16</td>\n",
       "    </tr>\n",
       "    <tr>\n",
       "      <th>1</th>\n",
       "      <td>dragonborn</td>\n",
       "      <td>75</td>\n",
       "      <td>193</td>\n",
       "      <td>30</td>\n",
       "      <td>11</td>\n",
       "      <td>11</td>\n",
       "      <td>11</td>\n",
       "      <td>13</td>\n",
       "      <td>13</td>\n",
       "      <td>17</td>\n",
       "    </tr>\n",
       "    <tr>\n",
       "      <th>2</th>\n",
       "      <td>dragonborn</td>\n",
       "      <td>73</td>\n",
       "      <td>252</td>\n",
       "      <td>30</td>\n",
       "      <td>14</td>\n",
       "      <td>16</td>\n",
       "      <td>11</td>\n",
       "      <td>13</td>\n",
       "      <td>10</td>\n",
       "      <td>18</td>\n",
       "    </tr>\n",
       "    <tr>\n",
       "      <th>3</th>\n",
       "      <td>dragonborn</td>\n",
       "      <td>75</td>\n",
       "      <td>256</td>\n",
       "      <td>30</td>\n",
       "      <td>8</td>\n",
       "      <td>19</td>\n",
       "      <td>7</td>\n",
       "      <td>10</td>\n",
       "      <td>13</td>\n",
       "      <td>16</td>\n",
       "    </tr>\n",
       "    <tr>\n",
       "      <th>4</th>\n",
       "      <td>dragonborn</td>\n",
       "      <td>71</td>\n",
       "      <td>205</td>\n",
       "      <td>30</td>\n",
       "      <td>8</td>\n",
       "      <td>17</td>\n",
       "      <td>14</td>\n",
       "      <td>14</td>\n",
       "      <td>10</td>\n",
       "      <td>9</td>\n",
       "    </tr>\n",
       "    <tr>\n",
       "      <th>...</th>\n",
       "      <td>...</td>\n",
       "      <td>...</td>\n",
       "      <td>...</td>\n",
       "      <td>...</td>\n",
       "      <td>...</td>\n",
       "      <td>...</td>\n",
       "      <td>...</td>\n",
       "      <td>...</td>\n",
       "      <td>...</td>\n",
       "      <td>...</td>\n",
       "    </tr>\n",
       "    <tr>\n",
       "      <th>9995</th>\n",
       "      <td>tiefling</td>\n",
       "      <td>66</td>\n",
       "      <td>146</td>\n",
       "      <td>30</td>\n",
       "      <td>13</td>\n",
       "      <td>18</td>\n",
       "      <td>17</td>\n",
       "      <td>13</td>\n",
       "      <td>15</td>\n",
       "      <td>13</td>\n",
       "    </tr>\n",
       "    <tr>\n",
       "      <th>9996</th>\n",
       "      <td>tiefling</td>\n",
       "      <td>69</td>\n",
       "      <td>134</td>\n",
       "      <td>30</td>\n",
       "      <td>8</td>\n",
       "      <td>14</td>\n",
       "      <td>13</td>\n",
       "      <td>6</td>\n",
       "      <td>14</td>\n",
       "      <td>20</td>\n",
       "    </tr>\n",
       "    <tr>\n",
       "      <th>9997</th>\n",
       "      <td>tiefling</td>\n",
       "      <td>69</td>\n",
       "      <td>194</td>\n",
       "      <td>30</td>\n",
       "      <td>4</td>\n",
       "      <td>5</td>\n",
       "      <td>16</td>\n",
       "      <td>12</td>\n",
       "      <td>12</td>\n",
       "      <td>15</td>\n",
       "    </tr>\n",
       "    <tr>\n",
       "      <th>9998</th>\n",
       "      <td>tiefling</td>\n",
       "      <td>70</td>\n",
       "      <td>214</td>\n",
       "      <td>30</td>\n",
       "      <td>12</td>\n",
       "      <td>16</td>\n",
       "      <td>12</td>\n",
       "      <td>15</td>\n",
       "      <td>9</td>\n",
       "      <td>16</td>\n",
       "    </tr>\n",
       "    <tr>\n",
       "      <th>9999</th>\n",
       "      <td>tiefling</td>\n",
       "      <td>60</td>\n",
       "      <td>125</td>\n",
       "      <td>30</td>\n",
       "      <td>16</td>\n",
       "      <td>17</td>\n",
       "      <td>15</td>\n",
       "      <td>12</td>\n",
       "      <td>13</td>\n",
       "      <td>13</td>\n",
       "    </tr>\n",
       "  </tbody>\n",
       "</table>\n",
       "<p>10000 rows × 10 columns</p>\n",
       "</div>"
      ],
      "text/plain": [
       "            race  height  weight  speed  strength  dexterity  constitution  \\\n",
       "0     dragonborn      71     195     30        14         15            12   \n",
       "1     dragonborn      75     193     30        11         11            11   \n",
       "2     dragonborn      73     252     30        14         16            11   \n",
       "3     dragonborn      75     256     30         8         19             7   \n",
       "4     dragonborn      71     205     30         8         17            14   \n",
       "...          ...     ...     ...    ...       ...        ...           ...   \n",
       "9995    tiefling      66     146     30        13         18            17   \n",
       "9996    tiefling      69     134     30         8         14            13   \n",
       "9997    tiefling      69     194     30         4          5            16   \n",
       "9998    tiefling      70     214     30        12         16            12   \n",
       "9999    tiefling      60     125     30        16         17            15   \n",
       "\n",
       "      intelligence  wisdom  charisma  \n",
       "0                7      13        16  \n",
       "1               13      13        17  \n",
       "2               13      10        18  \n",
       "3               10      13        16  \n",
       "4               14      10         9  \n",
       "...            ...     ...       ...  \n",
       "9995            13      15        13  \n",
       "9996             6      14        20  \n",
       "9997            12      12        15  \n",
       "9998            15       9        16  \n",
       "9999            12      13        13  \n",
       "\n",
       "[10000 rows x 10 columns]"
      ]
     },
     "execution_count": 2,
     "metadata": {},
     "output_type": "execute_result"
    }
   ],
   "source": [
    "df= pd.read_csv('dnd_stats.csv')\n",
    "df"
   ]
  },
  {
   "cell_type": "code",
   "execution_count": 3,
   "id": "0ee3a462",
   "metadata": {},
   "outputs": [
    {
     "data": {
      "text/plain": [
       "race            0\n",
       "height          0\n",
       "weight          0\n",
       "speed           0\n",
       "strength        0\n",
       "dexterity       0\n",
       "constitution    0\n",
       "intelligence    0\n",
       "wisdom          0\n",
       "charisma        0\n",
       "dtype: int64"
      ]
     },
     "execution_count": 3,
     "metadata": {},
     "output_type": "execute_result"
    }
   ],
   "source": [
    "df.isna().sum()"
   ]
  },
  {
   "cell_type": "code",
   "execution_count": 4,
   "id": "a8e6c817",
   "metadata": {},
   "outputs": [],
   "source": [
    "def get_dnd():\n",
    "    \n",
    "    '''\n",
    "    This function is used to acquire the dnd_stats.csv from the local file. If the file does not already exist,\n",
    "    the function will create the file.\n",
    "    ''' \n",
    "    \n",
    "    if os.path.isfile('dnd_stats.csv'):\n",
    "        \n",
    "        return pd.read_csv('dnd_stats.csv')\n",
    "    \n",
    "    else:\n",
    "        \n",
    "        df = pd.read_csv(\"dnd_stats.csv\")\n",
    "    \n",
    "        return df  \n",
    "df= get_dnd()"
   ]
  },
  {
   "cell_type": "code",
   "execution_count": 5,
   "id": "cc9ea819",
   "metadata": {},
   "outputs": [
    {
     "data": {
      "text/plain": [
       "race            object\n",
       "height           int64\n",
       "weight           int64\n",
       "speed            int64\n",
       "strength         int64\n",
       "dexterity        int64\n",
       "constitution     int64\n",
       "intelligence     int64\n",
       "wisdom           int64\n",
       "charisma         int64\n",
       "dtype: object"
      ]
     },
     "execution_count": 5,
     "metadata": {},
     "output_type": "execute_result"
    }
   ],
   "source": [
    "df.dtypes"
   ]
  },
  {
   "cell_type": "code",
   "execution_count": 6,
   "id": "803bc232",
   "metadata": {},
   "outputs": [],
   "source": [
    "dummy_df = pd.get_dummies(df[['race']],\n",
    "                              drop_first=True)\n",
    "df = pd.concat( [df, dummy_df], axis=1 )\n",
    "    "
   ]
  },
  {
   "cell_type": "code",
   "execution_count": 7,
   "id": "4434155c",
   "metadata": {},
   "outputs": [],
   "source": [
    "df.rename(columns= {'race_half.elf': 'race_half_elf', 'race_half.orc': 'race_half_orc'}, inplace= True)"
   ]
  },
  {
   "cell_type": "code",
   "execution_count": 8,
   "id": "c1ec3759",
   "metadata": {},
   "outputs": [
    {
     "name": "stdout",
     "output_type": "stream",
     "text": [
      "Train shape: (5600, 18)\n",
      "\n",
      "Validate shape: (2400, 18)\n",
      "\n",
      "Test shape: (2000, 18)\n"
     ]
    }
   ],
   "source": [
    "def the_split(df, stratify= None):\n",
    "\n",
    "    \"\"\" This functions is used to split the data into 3 different datasets: train, validate(val), and test.\n",
    "        It then then returns the seperate datasets and prints the shape for each of them.\n",
    "    \"\"\"\n",
    "        \n",
    "    # train/validate/test split and is reproducible due to random_state = 123\n",
    "    train_validate, test= train_test_split(df, test_size= .2, random_state= 7)\n",
    "    train, val= train_test_split(train_validate, test_size= .3, random_state= 7)\n",
    "    \n",
    "    print(f'Train shape: {train.shape}\\n' )\n",
    "    \n",
    "    print(f'Validate shape: {val.shape}\\n' )\n",
    "    \n",
    "    print(f'Test shape: {test.shape}')\n",
    "    \n",
    "    return train, val, test\n",
    "train, val, test= the_split(df)"
   ]
  },
  {
   "cell_type": "markdown",
   "id": "9a980337",
   "metadata": {},
   "source": [
    "# Exploration "
   ]
  },
  {
   "cell_type": "markdown",
   "id": "376454db",
   "metadata": {},
   "source": [
    "# Q1: Do characters who have a higher stat of height or weight have a higher wisdom stat?"
   ]
  },
  {
   "cell_type": "code",
   "execution_count": 17,
   "id": "02eb2b9a",
   "metadata": {},
   "outputs": [],
   "source": [
    "def get_tl_boy(train):\n",
    "    tall_boy= train[train.height > 75]\n",
    "    large_boy= train[train.weight > 280]\n",
    "    tl_boy= pd.concat([tall_boy, large_boy])\n",
    "    tl_wis= tl_boy.wisdom\n",
    "    \n",
    "    overall= train.wisdom.mean()\n",
    "    return tl_boy, tl_wis, overall\n",
    "tl_boy, tl_wis, overall= get_tl_boy(train)"
   ]
  },
  {
   "cell_type": "code",
   "execution_count": 18,
   "id": "be899eb7",
   "metadata": {},
   "outputs": [
    {
     "data": {
      "image/png": "[encoded data removed]",
      "text/plain": [
       "<Figure size 1170x827 with 2 Axes>"
      ]
     },
     "metadata": {},
     "output_type": "display_data"
    }
   ],
   "source": [
    "def plot_above(train, tl_boy):\n",
    "    \n",
    "    sns.set(rc={'figure.figsize':(11.7,8.27)})\n",
    "\n",
    "    fig = plt.figure()\n",
    "    ax = fig.add_subplot(221)\n",
    "    sns.countplot(data= train, x= 'wisdom')\n",
    "\n",
    "    ax.set_xlabel('Wisdom Sta', fontsize = 12)\n",
    "    ax.set_ylabel('Character Count', fontsize = 12)\n",
    "    ax.set_title('All Stats', fontsize = 12)\n",
    "\n",
    "    ax = fig.add_subplot(222)\n",
    "    sns.countplot(data= tl_boy, x= 'wisdom')\n",
    "    ax.set_xlabel('Wisdom Stat', fontsize = 12)\n",
    "    ax.set_ylabel('Character Count', fontsize = 12)\n",
    "    ax.set_title('Above Height & Weight Stat', fontsize = 12)\n",
    "    plt.show()\n",
    "plot_above(train, tl_boy)"
   ]
  },
  {
   "cell_type": "markdown",
   "id": "85cb9ac3",
   "metadata": {},
   "source": [
    "$H_o$: Characters who have a have greater height and weight, have a higher wisdom stat compared to the other races.\n",
    "\n",
    "$H_a$: Characters who have a have greater height and weight, do not a higher wisdom stat compared to the other races.\n"
   ]
  },
  {
   "cell_type": "code",
   "execution_count": 23,
   "id": "db1b5a70",
   "metadata": {},
   "outputs": [
    {
     "name": "stdout",
     "output_type": "stream",
     "text": [
      "We fail to reject the Null Hypothesis\n"
     ]
    }
   ],
   "source": [
    "def the_t(train, tl_wis):\n",
    "    alpha = 0.5\n",
    "    overall= train.wisdom.mean()\n",
    "    \n",
    "    t, p = stats.ttest_1samp(tl_wis, overall)\n",
    "\n",
    "    if p/2 > alpha:\n",
    "        print(\"We fail to reject the Null Hypothesis\")\n",
    "    elif t < 0:\n",
    "        print(\"We fail to reject the Null Hypothesis\")\n",
    "    else:\n",
    "        print(\"We reject the Null Hypothesis\")\n",
    "the_t(train, tl_wis)"
   ]
  },
  {
   "cell_type": "markdown",
   "id": "c379e3ce",
   "metadata": {},
   "source": [
    "# Takeawakys: \n",
    "  - Based on the graph we are not able to clearly tell apart which group has a greater wisdom. However, based on the results from our statistical testing, we are able to see that charcters who have a high height and weight count, do have a higher wisdom."
   ]
  },
  {
   "cell_type": "markdown",
   "id": "3053fc08",
   "metadata": {},
   "source": [
    "# Q2: Do characters having above average stats have higher wisdom?"
   ]
  },
  {
   "cell_type": "code",
   "execution_count": 25,
   "id": "5ed5ad80",
   "metadata": {},
   "outputs": [],
   "source": [
    "def get_above(train):\n",
    "    \n",
    "    above_height= train[train.height > 60]\n",
    "    above_weight= train[train.weight > 145]\n",
    "    above_speed= train[train.speed > 28]\n",
    "    above_strength= train[train.strength > 13]\n",
    "    above_dex= train[train.dexterity > 13]\n",
    "    above_constitution= train[train.constitution > 13]\n",
    "    above_intelligence= train[train.intelligence > 13]\n",
    "    above_charisma= train[train.charisma > 13]\n",
    "    \n",
    "    above_df= pd.concat([above_charisma, above_constitution, above_dex, above_height, above_intelligence,\n",
    "                   above_speed, above_weight, above_strength])\n",
    "    \n",
    "    above_wis= above_df.wisdom\n",
    "    \n",
    "    overall= train.wisdom.mean()\n",
    "    return above_df, above_wis, overall\n",
    "above_df, above_wis, overall= get_above(train)"
   ]
  },
  {
   "cell_type": "code",
   "execution_count": 26,
   "id": "9c223447",
   "metadata": {},
   "outputs": [
    {
     "data": {
      "image/png": "[encoded data removed]",
      "text/plain": [
       "<Figure size 1170x827 with 2 Axes>"
      ]
     },
     "metadata": {},
     "output_type": "display_data"
    }
   ],
   "source": [
    "def plot_above(train, above_df):\n",
    "    \n",
    "    sns.set(rc={'figure.figsize':(11.7,8.27)})\n",
    "\n",
    "    fig = plt.figure()\n",
    "    ax = fig.add_subplot(221)\n",
    "    sns.countplot(data= train, x= 'wisdom')\n",
    "\n",
    "    ax.set_xlabel('Wisdom Stat', fontsize = 12)\n",
    "    ax.set_ylabel('Character Count', fontsize = 12)\n",
    "    ax.set_title('All Stats', fontsize = 12)\n",
    "\n",
    "    ax = fig.add_subplot(222)\n",
    "    sns.countplot(data= above_df, x= 'wisdom')\n",
    "    ax.set_xlabel('Wisdom Stat', fontsize = 12)\n",
    "    ax.set_ylabel('Character Count', fontsize = 12)\n",
    "    ax.set_title('Above Average Stats', fontsize = 12)\n",
    "    plt.show()\n",
    "plot_above(train, above_df)"
   ]
  },
  {
   "cell_type": "markdown",
   "id": "b01dd53e",
   "metadata": {},
   "source": [
    "$H_o$: The characters who have above average stats have equal, or less, wisdom stats.\n",
    "\n",
    "$H_a$: The characters who have above average stats have higher wisdom stats."
   ]
  },
  {
   "cell_type": "code",
   "execution_count": 27,
   "id": "08d7d3b2",
   "metadata": {},
   "outputs": [
    {
     "name": "stdout",
     "output_type": "stream",
     "text": [
      "We reject the Null Hypothesis\n"
     ]
    }
   ],
   "source": [
    "def test_above(above_wis, overall):\n",
    "    alpha= 0.5\n",
    "    t, p = stats.ttest_1samp(above_wis, overall)\n",
    "\n",
    "    if p/2 > alpha:\n",
    "        print(\"We fail to reject the Null Hypothesis\")\n",
    "    elif t < 0:\n",
    "        print(\"We fail to reject the Null Hypothesis\")\n",
    "    else:\n",
    "        print(\"We reject the Null Hypothesis\")\n",
    "test_above(above_wis, overall)"
   ]
  },
  {
   "cell_type": "markdown",
   "id": "0ad453bd",
   "metadata": {},
   "source": [
    "# Takeaways:\n",
    "  - Both the graph show and the statistical testing show us that characters with above average stats have a higher wisdom."
   ]
  },
  {
   "cell_type": "markdown",
   "id": "e6bebb0b",
   "metadata": {},
   "source": [
    "# Q3: Do characters having both high intelligence and dexterity have greater wisdom?"
   ]
  },
  {
   "cell_type": "code",
   "execution_count": 25,
   "id": "a6d56523",
   "metadata": {},
   "outputs": [],
   "source": [
    "big_smart= train[train.intelligence > 16]\n",
    "big_brain= big_smart[big_smart.dexterity > 16]"
   ]
  },
  {
   "cell_type": "code",
   "execution_count": 124,
   "id": "64e94306",
   "metadata": {},
   "outputs": [
    {
     "data": {
      "image/png": "[encoded data removed]",
      "text/plain": [
       "<Figure size 900x550 with 2 Axes>"
      ]
     },
     "metadata": {},
     "output_type": "display_data"
    }
   ],
   "source": [
    "def plot_big_brain():\n",
    "    fig = plt.figure()\n",
    "    ax1 = fig.add_subplot(223)\n",
    "    sns.countplot(data= train, x= 'wisdom')\n",
    "\n",
    "    ax1.set_xlabel('Wisdom Stat', fontsize = 15)\n",
    "    ax1.set_ylabel('Character Count', fontsize = 15)\n",
    "    ax1.set_title('All Wisdom', fontsize = 15)\n",
    "\n",
    "    ax2 = fig.add_subplot(224)\n",
    "    sns.countplot(data= big_brain, x= 'wisdom')\n",
    "    ax2.set_xlabel('Wisdom Stat', fontsize = 15)\n",
    "    ax2.set_ylabel('Character Count', fontsize = 15)\n",
    "    ax2.set_title('High Intelligence/Dexterity', fontsize = 15)\n",
    "    plt.show()\n",
    "plot_big_brain()"
   ]
  },
  {
   "cell_type": "markdown",
   "id": "07901a88",
   "metadata": {},
   "source": [
    "# Q4: Does being a certain race mean higher wisdom?"
   ]
  },
  {
   "cell_type": "code",
   "execution_count": 27,
   "id": "67d8cff6",
   "metadata": {},
   "outputs": [],
   "source": [
    "dragonborn_wis= train[train.race== 'dragonborn'].wisdom.mean()\n",
    "halfling_wis= train[train.race== 'halfling'].wisdom.mean()\n",
    "gnome_wis= train[train.race== 'gnome'].wisdom.mean()\n",
    "human_wis= train[train.race== 'human'].wisdom.mean()\n",
    "tiefling_wis= train[train.race== 'tiefling'].wisdom.mean()\n",
    "elf_wis= train[train.race== 'elf'].wisdom.mean()\n",
    "dwarf_wis= train[train.race== 'dwarf'].wisdom.mean()\n",
    "half_elf_wis= train[train.race== 'half.elf'].wisdom.mean()\n",
    "half_orc= train[train.race== 'half.orc'].wisdom.mean()"
   ]
  },
  {
   "cell_type": "code",
   "execution_count": 28,
   "id": "e497b23e",
   "metadata": {},
   "outputs": [],
   "source": [
    "wis_avg= pd.DataFrame({'dragonborn': dragonborn_wis,\n",
    "              'halfling': halfling_wis,\n",
    "              'gnome': gnome_wis,\n",
    "              'human': human_wis,\n",
    "              'tiefling': tiefling_wis,\n",
    "              'elf': elf_wis,\n",
    "              'dwarf': dwarf_wis,\n",
    "              'half_elf': half_elf_wis,\n",
    "              'half_orc': half_orc}, index= [0])"
   ]
  },
  {
   "cell_type": "code",
   "execution_count": 29,
   "id": "a2e86f38",
   "metadata": {},
   "outputs": [],
   "source": [
    "wis_mean= pd.DataFrame(train.groupby('race')['wisdom'].mean()).reset_index()"
   ]
  },
  {
   "cell_type": "code",
   "execution_count": 30,
   "id": "974d1fdf",
   "metadata": {},
   "outputs": [
    {
     "data": {
      "text/html": [
       "<div>\n",
       "<style scoped>\n",
       "    .dataframe tbody tr th:only-of-type {\n",
       "        vertical-align: middle;\n",
       "    }\n",
       "\n",
       "    .dataframe tbody tr th {\n",
       "        vertical-align: top;\n",
       "    }\n",
       "\n",
       "    .dataframe thead th {\n",
       "        text-align: right;\n",
       "    }\n",
       "</style>\n",
       "<table border=\"1\" class=\"dataframe\">\n",
       "  <thead>\n",
       "    <tr style=\"text-align: right;\">\n",
       "      <th></th>\n",
       "      <th>race</th>\n",
       "      <th>wisdom</th>\n",
       "    </tr>\n",
       "  </thead>\n",
       "  <tbody>\n",
       "    <tr>\n",
       "      <th>0</th>\n",
       "      <td>dragonborn</td>\n",
       "      <td>12.093702</td>\n",
       "    </tr>\n",
       "    <tr>\n",
       "      <th>1</th>\n",
       "      <td>dwarf</td>\n",
       "      <td>12.128165</td>\n",
       "    </tr>\n",
       "    <tr>\n",
       "      <th>2</th>\n",
       "      <td>elf</td>\n",
       "      <td>12.260434</td>\n",
       "    </tr>\n",
       "    <tr>\n",
       "      <th>3</th>\n",
       "      <td>gnome</td>\n",
       "      <td>12.221338</td>\n",
       "    </tr>\n",
       "    <tr>\n",
       "      <th>4</th>\n",
       "      <td>half.elf</td>\n",
       "      <td>12.624788</td>\n",
       "    </tr>\n",
       "    <tr>\n",
       "      <th>5</th>\n",
       "      <td>half.orc</td>\n",
       "      <td>12.123779</td>\n",
       "    </tr>\n",
       "    <tr>\n",
       "      <th>6</th>\n",
       "      <td>halfling</td>\n",
       "      <td>12.425868</td>\n",
       "    </tr>\n",
       "    <tr>\n",
       "      <th>7</th>\n",
       "      <td>human</td>\n",
       "      <td>13.252475</td>\n",
       "    </tr>\n",
       "    <tr>\n",
       "      <th>8</th>\n",
       "      <td>tiefling</td>\n",
       "      <td>12.366306</td>\n",
       "    </tr>\n",
       "  </tbody>\n",
       "</table>\n",
       "</div>"
      ],
      "text/plain": [
       "         race     wisdom\n",
       "0  dragonborn  12.093702\n",
       "1       dwarf  12.128165\n",
       "2         elf  12.260434\n",
       "3       gnome  12.221338\n",
       "4    half.elf  12.624788\n",
       "5    half.orc  12.123779\n",
       "6    halfling  12.425868\n",
       "7       human  13.252475\n",
       "8    tiefling  12.366306"
      ]
     },
     "execution_count": 30,
     "metadata": {},
     "output_type": "execute_result"
    }
   ],
   "source": [
    "wis_mean"
   ]
  },
  {
   "cell_type": "code",
   "execution_count": 108,
   "id": "27809b40",
   "metadata": {},
   "outputs": [
    {
     "data": {
      "image/png": "[encoded data removed]",
      "text/plain": [
       "<Figure size 900x550 with 1 Axes>"
      ]
     },
     "metadata": {},
     "output_type": "display_data"
    }
   ],
   "source": [
    "def wis_per_race(wis_mean):\n",
    "    color= ['grey', 'grey', 'grey', 'grey', 'grey', 'grey', 'grey','firebrick']\n",
    "    fig = plt.figure()\n",
    "    sns.barplot(data= wis_mean, y= 'wisdom', x= 'race', palette= color, ec= 'black')\n",
    "    sns.set(rc={'figure.figsize':(9.0, 5.50)})\n",
    "    plt.xlabel('Character Race Type', fontsize = 20)\n",
    "    plt.ylabel('Wisdom Stat Count', fontsize = 20)\n",
    "    plt.title('Wisdom Stat Per Race Type', fontsize = 20)\n",
    "\n",
    "    plt.show()\n",
    "wis_per_race(wis_mean)"
   ]
  },
  {
   "cell_type": "markdown",
   "id": "c3449142",
   "metadata": {},
   "source": [
    "# Modeling "
   ]
  },
  {
   "cell_type": "code",
   "execution_count": 32,
   "id": "df814228",
   "metadata": {},
   "outputs": [
    {
     "data": {
      "text/html": [
       "<div>\n",
       "<style scoped>\n",
       "    .dataframe tbody tr th:only-of-type {\n",
       "        vertical-align: middle;\n",
       "    }\n",
       "\n",
       "    .dataframe tbody tr th {\n",
       "        vertical-align: top;\n",
       "    }\n",
       "\n",
       "    .dataframe thead th {\n",
       "        text-align: right;\n",
       "    }\n",
       "</style>\n",
       "<table border=\"1\" class=\"dataframe\">\n",
       "  <thead>\n",
       "    <tr style=\"text-align: right;\">\n",
       "      <th></th>\n",
       "      <th>charisma</th>\n",
       "      <th>constitution</th>\n",
       "      <th>unscaled_clusters</th>\n",
       "      <th>scaled_clusters</th>\n",
       "    </tr>\n",
       "  </thead>\n",
       "  <tbody>\n",
       "    <tr>\n",
       "      <th>4099</th>\n",
       "      <td>0.705882</td>\n",
       "      <td>0.705882</td>\n",
       "      <td>1</td>\n",
       "      <td>3</td>\n",
       "    </tr>\n",
       "    <tr>\n",
       "      <th>9839</th>\n",
       "      <td>0.764706</td>\n",
       "      <td>0.529412</td>\n",
       "      <td>3</td>\n",
       "      <td>0</td>\n",
       "    </tr>\n",
       "    <tr>\n",
       "      <th>2558</th>\n",
       "      <td>0.352941</td>\n",
       "      <td>0.588235</td>\n",
       "      <td>2</td>\n",
       "      <td>2</td>\n",
       "    </tr>\n",
       "    <tr>\n",
       "      <th>7552</th>\n",
       "      <td>0.352941</td>\n",
       "      <td>0.764706</td>\n",
       "      <td>2</td>\n",
       "      <td>1</td>\n",
       "    </tr>\n",
       "    <tr>\n",
       "      <th>8851</th>\n",
       "      <td>0.470588</td>\n",
       "      <td>0.764706</td>\n",
       "      <td>2</td>\n",
       "      <td>1</td>\n",
       "    </tr>\n",
       "    <tr>\n",
       "      <th>...</th>\n",
       "      <td>...</td>\n",
       "      <td>...</td>\n",
       "      <td>...</td>\n",
       "      <td>...</td>\n",
       "    </tr>\n",
       "    <tr>\n",
       "      <th>6397</th>\n",
       "      <td>0.588235</td>\n",
       "      <td>0.705882</td>\n",
       "      <td>2</td>\n",
       "      <td>3</td>\n",
       "    </tr>\n",
       "    <tr>\n",
       "      <th>3938</th>\n",
       "      <td>0.294118</td>\n",
       "      <td>0.882353</td>\n",
       "      <td>2</td>\n",
       "      <td>1</td>\n",
       "    </tr>\n",
       "    <tr>\n",
       "      <th>9664</th>\n",
       "      <td>0.470588</td>\n",
       "      <td>0.647059</td>\n",
       "      <td>2</td>\n",
       "      <td>1</td>\n",
       "    </tr>\n",
       "    <tr>\n",
       "      <th>5731</th>\n",
       "      <td>0.235294</td>\n",
       "      <td>0.882353</td>\n",
       "      <td>2</td>\n",
       "      <td>1</td>\n",
       "    </tr>\n",
       "    <tr>\n",
       "      <th>6290</th>\n",
       "      <td>0.647059</td>\n",
       "      <td>0.529412</td>\n",
       "      <td>3</td>\n",
       "      <td>0</td>\n",
       "    </tr>\n",
       "  </tbody>\n",
       "</table>\n",
       "<p>5600 rows × 4 columns</p>\n",
       "</div>"
      ],
      "text/plain": [
       "      charisma  constitution  unscaled_clusters  scaled_clusters\n",
       "4099  0.705882      0.705882                  1                3\n",
       "9839  0.764706      0.529412                  3                0\n",
       "2558  0.352941      0.588235                  2                2\n",
       "7552  0.352941      0.764706                  2                1\n",
       "8851  0.470588      0.764706                  2                1\n",
       "...        ...           ...                ...              ...\n",
       "6397  0.588235      0.705882                  2                3\n",
       "3938  0.294118      0.882353                  2                1\n",
       "9664  0.470588      0.647059                  2                1\n",
       "5731  0.235294      0.882353                  2                1\n",
       "6290  0.647059      0.529412                  3                0\n",
       "\n",
       "[5600 rows x 4 columns]"
      ]
     },
     "execution_count": 32,
     "metadata": {},
     "output_type": "execute_result"
    }
   ],
   "source": [
    "def clustering(train, f1, f2):\n",
    "    '''\n",
    "    This function is creating unscaled and scaled clusters and adding columns to the dataset\n",
    "    '''\n",
    "    \n",
    "    seed = 22\n",
    "    \n",
    "    X = train[[f1, f2]]\n",
    "    \n",
    "    kmeans = KMeans(n_clusters = 4, random_state= seed)\n",
    "    kmeans.fit(X)\n",
    "    kmeans.predict(X)\n",
    "\n",
    "    X['unscaled_clusters'] = kmeans.predict(X)\n",
    "    \n",
    "    mm_scaler = MinMaxScaler()\n",
    "    X[[f1, f2]] = mm_scaler.fit_transform(X[[f1, f2]])\n",
    "    \n",
    "    kmeans_scale = KMeans(n_clusters = 4, random_state = 22)\n",
    "    kmeans_scale.fit(X[[f1, f2]])\n",
    "    kmeans_scale.predict(X[[f1, f2]])\n",
    "    \n",
    "    X['scaled_clusters'] = kmeans_scale.predict(X[[f1, f2]])\n",
    "    \n",
    "    return X   \n",
    "clusters= clustering(train, 'charisma', 'constitution')\n",
    "clusters"
   ]
  },
  {
   "cell_type": "code",
   "execution_count": 33,
   "id": "c39e9a51",
   "metadata": {},
   "outputs": [
    {
     "data": {
      "image/png": "[encoded data removed]",
      "text/plain": [
       "<Figure size 645.722x500 with 1 Axes>"
      ]
     },
     "metadata": {},
     "output_type": "display_data"
    }
   ],
   "source": [
    "def cluster_relplot(df, f1, f2):\n",
    "    '''\n",
    "    This functions creates a relplot of the clusters\n",
    "    '''\n",
    "    \n",
    "    sns.set(style = \"whitegrid\")\n",
    "    \n",
    "    X = clustering(df, f1, f2)\n",
    "    \n",
    "    sns.relplot(data = X, x = f1, y = f2, hue = 'unscaled_clusters')\n",
    "    \n",
    "    plt.title('Clusters')\n",
    "    \n",
    "    return plt.show() \n",
    "cluster_relplot(train, 'dexterity', 'intelligence')"
   ]
  },
  {
   "cell_type": "code",
   "execution_count": 34,
   "id": "c915ece1",
   "metadata": {},
   "outputs": [
    {
     "data": {
      "image/png": "[encoded data removed]",
      "text/plain": [
       "<Figure size 500x500 with 1 Axes>"
      ]
     },
     "metadata": {},
     "output_type": "display_data"
    }
   ],
   "source": [
    "def best_cluster(df, f1, f2):\n",
    "    '''\n",
    "    This function makes a graph to show the most optimal cluster number\n",
    "    '''\n",
    "    \n",
    "    X = clustering(df, f1, f2)\n",
    "    \n",
    "    inertia = []\n",
    "    seed = 22 \n",
    "\n",
    "    for n in range(1,11):\n",
    "\n",
    "        kmeans = KMeans(n_clusters = n, random_state = seed)\n",
    "\n",
    "        kmeans.fit(X[[f1, f2]])\n",
    "\n",
    "        inertia.append(kmeans.inertia_)\n",
    "        \n",
    "        \n",
    "    results_df = pd.DataFrame({'n_clusters': list(range(1,11)),\n",
    "                               'inertia': inertia})   \n",
    "    \n",
    "    sns.set_style(\"whitegrid\")\n",
    "    sns.relplot(data = results_df, x='n_clusters', y = 'inertia', kind = 'line')\n",
    "    plt.xticks(np.arange(0, 11, step=1))\n",
    "    point = (3, 107) # specify the x and y values of the point to annotate\n",
    "   # plt.annotate(\"optimal cluster\", xy=point, xytext=(5, 125), \n",
    "                 #arrowprops=dict(facecolor='black', shrink=0.05))\n",
    "    \n",
    "    plt.title('The Best Cluster')\n",
    "    \n",
    "    return plt.show()\n",
    "best_cluster(df, 'charisma', 'constitution')"
   ]
  },
  {
   "cell_type": "code",
   "execution_count": 35,
   "id": "df0d3799",
   "metadata": {},
   "outputs": [],
   "source": [
    "def combined_df(df, f1, f2):\n",
    "    \n",
    "    X = clustering(df, f1, f2)\n",
    "    \n",
    "    scaled_clusters = X['scaled_clusters']\n",
    "    df3 = pd.merge(df, scaled_clusters, left_index=True, right_index=True)\n",
    "    \n",
    "    return df3\n",
    "df= combined_df(df, 'dexterity', 'intelligence')"
   ]
  },
  {
   "cell_type": "code",
   "execution_count": 36,
   "id": "800e49dc",
   "metadata": {},
   "outputs": [
    {
     "name": "stdout",
     "output_type": "stream",
     "text": [
      "Train shape: (5600, 19)\n",
      "\n",
      "Validate shape: (2400, 19)\n",
      "\n",
      "Test shape: (2000, 19)\n"
     ]
    }
   ],
   "source": [
    "train, val, test= the_split(df)"
   ]
  },
  {
   "cell_type": "markdown",
   "id": "76499ee2",
   "metadata": {},
   "source": [
    "train_scaled.drop(columns= ['scaled_clusters_y'], inplace= True)\n",
    "val_scaled.drop(columns= ['scaled_clusters_y'], inplace= True)\n",
    "test_scaled.drop(columns= ['scaled_clusters_y'], inplace= True)"
   ]
  },
  {
   "cell_type": "markdown",
   "id": "11827e48",
   "metadata": {},
   "source": [
    "train_scaled.rename(columns= {'scaled_clusters_x': 'scaled_clusters'}, inplace= True)\n",
    "val_scaled.rename(columns= {'scaled_clusters_x': 'scaled_clusters'}, inplace= True)\n",
    "test_scaled.rename(columns= {'scaled_clusters_x': 'scaled_clusters'}, inplace= True)"
   ]
  },
  {
   "cell_type": "code",
   "execution_count": 40,
   "id": "91cdcf8d",
   "metadata": {},
   "outputs": [],
   "source": [
    "df.drop(columns= ['race'], inplace= True)"
   ]
  },
  {
   "cell_type": "code",
   "execution_count": 41,
   "id": "14f86ef6",
   "metadata": {},
   "outputs": [
    {
     "name": "stdout",
     "output_type": "stream",
     "text": [
      "Train shape: (5600, 18)\n",
      "\n",
      "Validate shape: (2400, 18)\n",
      "\n",
      "Test shape: (2000, 18)\n"
     ]
    }
   ],
   "source": [
    "train, val, test= the_split(df)"
   ]
  },
  {
   "cell_type": "code",
   "execution_count": 42,
   "id": "c0337161",
   "metadata": {},
   "outputs": [
    {
     "name": "stdout",
     "output_type": "stream",
     "text": [
      "Train shape: (5600, 18)\n",
      "\n",
      "Validate shape: (2400, 18)\n",
      "\n",
      "Test shape: (2000, 18)\n"
     ]
    }
   ],
   "source": [
    "def mvp_scaled_data(train, val, test, return_scaler=False):\n",
    "    '''\n",
    "    Scales the 3 data splits. \n",
    "    Takes in train, validate, and test data splits and returns their scaled counterparts.\n",
    "    If return_scalar is True, the scaler object will be returned as well\n",
    "    '''\n",
    "    train.drop(columns= ['wisdom'], inplace= True)\n",
    "    columns_scale = train.iloc[:, :16]\n",
    "    columns_to_scale = columns_scale.columns\n",
    "    \n",
    "    train, val, test= the_split(df)\n",
    "    \n",
    "    # make copies of our original data so we dont gronk up anything\n",
    "    train_scaled = train.copy()\n",
    "    val_scaled = val.copy()\n",
    "    test_scaled = test.copy()\n",
    "    #     make the thing\n",
    "    mms = MinMaxScaler()\n",
    "    #     fit the thing\n",
    "    mms.fit(train[columns_to_scale])\n",
    "    # applying the scaler:\n",
    "    train_scaled[columns_to_scale] = pd.DataFrame(mms.transform(train[columns_to_scale]),\n",
    "                                                  columns=train[columns_to_scale].columns.values).set_index([train.index.values])\n",
    "                                                  \n",
    "    val_scaled[columns_to_scale] = pd.DataFrame(mms.transform(val[columns_to_scale]), \n",
    "                                                     columns=val[columns_to_scale].columns.values).set_index([val.index.values])\n",
    "    \n",
    "    test_scaled[columns_to_scale] = pd.DataFrame(mms.transform(test[columns_to_scale]),\n",
    "                                                 columns=test[columns_to_scale].columns.values).set_index([test.index.values])\n",
    "    \n",
    "    if return_scaler:\n",
    "        return scaler, train_scaled, validate_scaled, test_scaled\n",
    "    else:\n",
    "        return train_scaled, val_scaled, test_scaled\n",
    "train_scaled, val_scaled, test_scaled= mvp_scaled_data(train, val, test)"
   ]
  },
  {
   "cell_type": "code",
   "execution_count": 44,
   "id": "875c6feb",
   "metadata": {},
   "outputs": [
    {
     "name": "stdout",
     "output_type": "stream",
     "text": [
      "Train shape: (5600, 18)\n",
      "\n",
      "Validate shape: (2400, 18)\n",
      "\n",
      "Test shape: (2000, 18)\n"
     ]
    }
   ],
   "source": [
    "train, val, test= the_split(df)"
   ]
  },
  {
   "cell_type": "code",
   "execution_count": 52,
   "id": "1a091dbc",
   "metadata": {},
   "outputs": [],
   "source": [
    "def six_split(train, val, test, target):\n",
    "    \"\"\"\n",
    "    this functions splits the data into 6 different datasets. We will use them for \n",
    "    our modeling \n",
    "    \"\"\"\n",
    "    # split into X and y train dataset \n",
    "    X_train= train.drop(columns=[target])\n",
    "    y_train= train[target]\n",
    "\n",
    "    # split into X and y val dataset \n",
    "    X_val= val.drop(columns=[target])\n",
    "    y_val= val[target]\n",
    "\n",
    "    # split into X and y test dataset \n",
    "    X_test= test.drop(columns=[target])\n",
    "    y_test= test[target]\n",
    "\n",
    "    X_train= pd.DataFrame(X_train)\n",
    "    X_val= pd.DataFrame(X_val)\n",
    "    X_test= pd.DataFrame(X_test)\n",
    "\n",
    "    return X_train, y_train, X_val, y_val, X_test, y_test\n",
    "\n",
    "X_train, y_train, X_val, y_val, X_test, y_test= six_split(train, val, test, 'wisdom')"
   ]
  },
  {
   "cell_type": "code",
   "execution_count": 53,
   "id": "f0bff294",
   "metadata": {},
   "outputs": [],
   "source": [
    "def splitting_subsets(train_scaled, val_scaled, test_scaled, target):\n",
    "    '''\n",
    "    This function splits our train, validate, and test scaled datasets into X/y train,\n",
    "    validate, and test subsets\n",
    "    '''\n",
    "    \n",
    "    \n",
    "    X_train_scaled= train_scaled.drop(columns= [target])\n",
    "    X_train_scaled= pd.get_dummies(X_train_scaled, columns= ['scaled_clusters'])\n",
    "    y_train_unscaled= train_scaled[target]\n",
    "\n",
    "\n",
    "    X_val_scaled= val_scaled.drop(columns= [target])\n",
    "    X_val_scaled= pd.get_dummies(X_val_scaled, columns= ['scaled_clusters'])\n",
    "    y_val_unscaled= val_scaled[target]\n",
    "\n",
    "\n",
    "    X_test_scaled= train_scaled.drop(columns= [target])\n",
    "    X_test_scaled= pd.get_dummies(X_test_scaled, columns= ['scaled_clusters'])\n",
    "    y_test_unscaled= train_scaled[target]\n",
    "    \n",
    "    \n",
    "    return X_train_scaled, y_train_unscaled, X_val_scaled, y_val_unscaled, X_test_scaled, y_test_unscaled"
   ]
  },
  {
   "cell_type": "code",
   "execution_count": 64,
   "id": "9a2f07f0",
   "metadata": {},
   "outputs": [],
   "source": [
    "X_train_scaled, y_train_unscaled, X_val_scaled, y_val_unscaled, X_test_scaled, y_test_unscaled= splitting_subsets(train_scaled, val_scaled, test_scaled, target= 'wisdom')"
   ]
  },
  {
   "cell_type": "code",
   "execution_count": 65,
   "id": "03645b07",
   "metadata": {},
   "outputs": [
    {
     "data": {
      "text/plain": [
       "2.8632478915595847"
      ]
     },
     "execution_count": 65,
     "metadata": {},
     "output_type": "execute_result"
    }
   ],
   "source": [
    "def baseline(y_train_unscaled):\n",
    "    '''\n",
    "    This function takes in y_train to calculate the baseline rmse\n",
    "    '''\n",
    "    \n",
    "    preds_df = pd.DataFrame({'actual': y_train_unscaled})\n",
    "    \n",
    "    preds_df['baseline'] = y_train_unscaled.mean()\n",
    "    \n",
    "    baseline_rmse = sqrt(mean_squared_error(preds_df.actual, preds_df.baseline))\n",
    "\n",
    "    return baseline_rmse\n",
    "baseline(y_train)"
   ]
  },
  {
   "cell_type": "code",
   "execution_count": 66,
   "id": "ffd0e843",
   "metadata": {},
   "outputs": [
    {
     "data": {
      "text/html": [
       "<div>\n",
       "<style scoped>\n",
       "    .dataframe tbody tr th:only-of-type {\n",
       "        vertical-align: middle;\n",
       "    }\n",
       "\n",
       "    .dataframe tbody tr th {\n",
       "        vertical-align: top;\n",
       "    }\n",
       "\n",
       "    .dataframe thead th {\n",
       "        text-align: right;\n",
       "    }\n",
       "</style>\n",
       "<table border=\"1\" class=\"dataframe\">\n",
       "  <thead>\n",
       "    <tr style=\"text-align: right;\">\n",
       "      <th></th>\n",
       "      <th>alpha</th>\n",
       "      <th>lasso_rmse</th>\n",
       "    </tr>\n",
       "  </thead>\n",
       "  <tbody>\n",
       "    <tr>\n",
       "      <th>0</th>\n",
       "      <td>0.05</td>\n",
       "      <td>2.863248</td>\n",
       "    </tr>\n",
       "    <tr>\n",
       "      <th>16</th>\n",
       "      <td>0.85</td>\n",
       "      <td>2.863248</td>\n",
       "    </tr>\n",
       "    <tr>\n",
       "      <th>15</th>\n",
       "      <td>0.80</td>\n",
       "      <td>2.863248</td>\n",
       "    </tr>\n",
       "    <tr>\n",
       "      <th>14</th>\n",
       "      <td>0.75</td>\n",
       "      <td>2.863248</td>\n",
       "    </tr>\n",
       "    <tr>\n",
       "      <th>13</th>\n",
       "      <td>0.70</td>\n",
       "      <td>2.863248</td>\n",
       "    </tr>\n",
       "    <tr>\n",
       "      <th>12</th>\n",
       "      <td>0.65</td>\n",
       "      <td>2.863248</td>\n",
       "    </tr>\n",
       "    <tr>\n",
       "      <th>11</th>\n",
       "      <td>0.60</td>\n",
       "      <td>2.863248</td>\n",
       "    </tr>\n",
       "    <tr>\n",
       "      <th>10</th>\n",
       "      <td>0.55</td>\n",
       "      <td>2.863248</td>\n",
       "    </tr>\n",
       "    <tr>\n",
       "      <th>17</th>\n",
       "      <td>0.90</td>\n",
       "      <td>2.863248</td>\n",
       "    </tr>\n",
       "    <tr>\n",
       "      <th>9</th>\n",
       "      <td>0.50</td>\n",
       "      <td>2.863248</td>\n",
       "    </tr>\n",
       "    <tr>\n",
       "      <th>7</th>\n",
       "      <td>0.40</td>\n",
       "      <td>2.863248</td>\n",
       "    </tr>\n",
       "    <tr>\n",
       "      <th>6</th>\n",
       "      <td>0.35</td>\n",
       "      <td>2.863248</td>\n",
       "    </tr>\n",
       "    <tr>\n",
       "      <th>5</th>\n",
       "      <td>0.30</td>\n",
       "      <td>2.863248</td>\n",
       "    </tr>\n",
       "    <tr>\n",
       "      <th>4</th>\n",
       "      <td>0.25</td>\n",
       "      <td>2.863248</td>\n",
       "    </tr>\n",
       "    <tr>\n",
       "      <th>3</th>\n",
       "      <td>0.20</td>\n",
       "      <td>2.863248</td>\n",
       "    </tr>\n",
       "    <tr>\n",
       "      <th>2</th>\n",
       "      <td>0.15</td>\n",
       "      <td>2.863248</td>\n",
       "    </tr>\n",
       "    <tr>\n",
       "      <th>1</th>\n",
       "      <td>0.10</td>\n",
       "      <td>2.863248</td>\n",
       "    </tr>\n",
       "    <tr>\n",
       "      <th>8</th>\n",
       "      <td>0.45</td>\n",
       "      <td>2.863248</td>\n",
       "    </tr>\n",
       "    <tr>\n",
       "      <th>18</th>\n",
       "      <td>0.95</td>\n",
       "      <td>2.863248</td>\n",
       "    </tr>\n",
       "  </tbody>\n",
       "</table>\n",
       "</div>"
      ],
      "text/plain": [
       "    alpha  lasso_rmse\n",
       "0    0.05    2.863248\n",
       "16   0.85    2.863248\n",
       "15   0.80    2.863248\n",
       "14   0.75    2.863248\n",
       "13   0.70    2.863248\n",
       "12   0.65    2.863248\n",
       "11   0.60    2.863248\n",
       "10   0.55    2.863248\n",
       "17   0.90    2.863248\n",
       "9    0.50    2.863248\n",
       "7    0.40    2.863248\n",
       "6    0.35    2.863248\n",
       "5    0.30    2.863248\n",
       "4    0.25    2.863248\n",
       "3    0.20    2.863248\n",
       "2    0.15    2.863248\n",
       "1    0.10    2.863248\n",
       "8    0.45    2.863248\n",
       "18   0.95    2.863248"
      ]
     },
     "execution_count": 66,
     "metadata": {},
     "output_type": "execute_result"
    }
   ],
   "source": [
    "def lasso_lars(X_train_scaled, y_train_unscaled):\n",
    "    metrics = []\n",
    "\n",
    "    for i in np.arange(0.05, 1, .05):\n",
    "    \n",
    "        lasso= LassoLars(alpha = i )\n",
    "    \n",
    "        lasso.fit(X_train_scaled, y_train_unscaled)\n",
    "    \n",
    "        lasso_preds= lasso.predict(X_train_scaled)\n",
    "        \n",
    "        preds_df= pd.DataFrame({'actual': y_train_unscaled})\n",
    "    \n",
    "        preds_df['lasso_preds'] = lasso_preds\n",
    "\n",
    "        lasso_rmse= sqrt(mean_squared_error(preds_df['actual'], preds_df['lasso_preds']))\n",
    "    \n",
    "        output = {\n",
    "                'alpha': i,\n",
    "                'lasso_rmse': lasso_rmse\n",
    "                 }\n",
    "    \n",
    "        metrics.append(output)\n",
    "\n",
    "    df = pd.DataFrame(metrics)    \n",
    "    return df.sort_values('lasso_rmse')\n",
    "lasso_lars(X_train_scaled, y_train_unscaled)"
   ]
  },
  {
   "cell_type": "code",
   "execution_count": 67,
   "id": "9a580e2b",
   "metadata": {},
   "outputs": [
    {
     "data": {
      "text/html": [
       "<div>\n",
       "<style scoped>\n",
       "    .dataframe tbody tr th:only-of-type {\n",
       "        vertical-align: middle;\n",
       "    }\n",
       "\n",
       "    .dataframe tbody tr th {\n",
       "        vertical-align: top;\n",
       "    }\n",
       "\n",
       "    .dataframe thead th {\n",
       "        text-align: right;\n",
       "    }\n",
       "</style>\n",
       "<table border=\"1\" class=\"dataframe\">\n",
       "  <thead>\n",
       "    <tr style=\"text-align: right;\">\n",
       "      <th></th>\n",
       "      <th>model</th>\n",
       "      <th>linear_rmse</th>\n",
       "    </tr>\n",
       "  </thead>\n",
       "  <tbody>\n",
       "    <tr>\n",
       "      <th>0</th>\n",
       "      <td>linear</td>\n",
       "      <td>2.840606</td>\n",
       "    </tr>\n",
       "  </tbody>\n",
       "</table>\n",
       "</div>"
      ],
      "text/plain": [
       "    model  linear_rmse\n",
       "0  linear     2.840606"
      ]
     },
     "execution_count": 67,
     "metadata": {},
     "output_type": "execute_result"
    }
   ],
   "source": [
    "def linear_model(X_train_scaled, y_train_unscaled):\n",
    "    \n",
    "    lm= LinearRegression()\n",
    "\n",
    "    lm.fit(X_train_scaled, y_train_unscaled)\n",
    "    \n",
    "    lm_preds= lm.predict(X_train_scaled)\n",
    "    \n",
    "    preds_df= pd.DataFrame({'actual': y_train_unscaled,'lm_preds': lm_preds})\n",
    "    \n",
    "    lm_rmse= sqrt(mean_squared_error(preds_df['lm_preds'], preds_df['actual']))\n",
    "    \n",
    "    df= pd.DataFrame({'model': 'linear', 'linear_rmse': lm_rmse},index=['0']) \n",
    "                      \n",
    "    return df\n",
    "linear_model(X_train_scaled, y_train_unscaled)"
   ]
  },
  {
   "cell_type": "code",
   "execution_count": 68,
   "id": "d77f1b31",
   "metadata": {},
   "outputs": [
    {
     "data": {
      "text/html": [
       "<div>\n",
       "<style scoped>\n",
       "    .dataframe tbody tr th:only-of-type {\n",
       "        vertical-align: middle;\n",
       "    }\n",
       "\n",
       "    .dataframe tbody tr th {\n",
       "        vertical-align: top;\n",
       "    }\n",
       "\n",
       "    .dataframe thead th {\n",
       "        text-align: right;\n",
       "    }\n",
       "</style>\n",
       "<table border=\"1\" class=\"dataframe\">\n",
       "  <thead>\n",
       "    <tr style=\"text-align: right;\">\n",
       "      <th></th>\n",
       "      <th>power</th>\n",
       "      <th>tweedie_rmse</th>\n",
       "    </tr>\n",
       "  </thead>\n",
       "  <tbody>\n",
       "    <tr>\n",
       "      <th>1</th>\n",
       "      <td>1</td>\n",
       "      <td>2.845406</td>\n",
       "    </tr>\n",
       "    <tr>\n",
       "      <th>0</th>\n",
       "      <td>0</td>\n",
       "      <td>2.858832</td>\n",
       "    </tr>\n",
       "    <tr>\n",
       "      <th>2</th>\n",
       "      <td>2</td>\n",
       "      <td>2.858833</td>\n",
       "    </tr>\n",
       "    <tr>\n",
       "      <th>3</th>\n",
       "      <td>3</td>\n",
       "      <td>2.862818</td>\n",
       "    </tr>\n",
       "  </tbody>\n",
       "</table>\n",
       "</div>"
      ],
      "text/plain": [
       "   power  tweedie_rmse\n",
       "1      1      2.845406\n",
       "0      0      2.858832\n",
       "2      2      2.858833\n",
       "3      3      2.862818"
      ]
     },
     "execution_count": 68,
     "metadata": {},
     "output_type": "execute_result"
    }
   ],
   "source": [
    "def tweedie_models(X_train_scaled, y_train_unscaled):\n",
    "    metrics = []\n",
    "\n",
    "    for i in range(0, 4, 1):\n",
    "    \n",
    "        tweedie = TweedieRegressor(power = i)\n",
    "    \n",
    "        tweedie.fit(X_train_scaled, y_train_unscaled)\n",
    "    \n",
    "        tweedie_preds = tweedie.predict(X_train_scaled)\n",
    "        \n",
    "        preds_df = pd.DataFrame({'actual': y_train_unscaled})\n",
    "    \n",
    "        preds_df['tweedie_preds'] = tweedie_preds\n",
    "    \n",
    "        tweedie_rmse = sqrt(mean_squared_error(preds_df.actual, preds_df.tweedie_preds))\n",
    "    \n",
    "        output = {\n",
    "                'power': i,\n",
    "                'tweedie_rmse': tweedie_rmse\n",
    "                 }\n",
    "    \n",
    "        metrics.append(output)\n",
    "\n",
    "    df = pd.DataFrame(metrics)    \n",
    "    return df.sort_values('tweedie_rmse') \n",
    "tweedie_models(X_train_scaled, y_train_unscaled)"
   ]
  },
  {
   "cell_type": "code",
   "execution_count": 69,
   "id": "9c7fc80c",
   "metadata": {},
   "outputs": [
    {
     "data": {
      "text/html": [
       "<div>\n",
       "<style scoped>\n",
       "    .dataframe tbody tr th:only-of-type {\n",
       "        vertical-align: middle;\n",
       "    }\n",
       "\n",
       "    .dataframe tbody tr th {\n",
       "        vertical-align: top;\n",
       "    }\n",
       "\n",
       "    .dataframe thead th {\n",
       "        text-align: right;\n",
       "    }\n",
       "</style>\n",
       "<table border=\"1\" class=\"dataframe\">\n",
       "  <thead>\n",
       "    <tr style=\"text-align: right;\">\n",
       "      <th></th>\n",
       "      <th>degree</th>\n",
       "      <th>poly_rmse</th>\n",
       "    </tr>\n",
       "  </thead>\n",
       "  <tbody>\n",
       "    <tr>\n",
       "      <th>1</th>\n",
       "      <td>3</td>\n",
       "      <td>2.707038</td>\n",
       "    </tr>\n",
       "    <tr>\n",
       "      <th>0</th>\n",
       "      <td>2</td>\n",
       "      <td>2.814235</td>\n",
       "    </tr>\n",
       "  </tbody>\n",
       "</table>\n",
       "</div>"
      ],
      "text/plain": [
       "   degree  poly_rmse\n",
       "1       3   2.707038\n",
       "0       2   2.814235"
      ]
     },
     "execution_count": 69,
     "metadata": {},
     "output_type": "execute_result"
    }
   ],
   "source": [
    "def linear_poly(X_train, y_train):\n",
    "    metrics = []\n",
    "\n",
    "    for i in range(2,4):\n",
    "\n",
    "        pf = PolynomialFeatures(degree = i)\n",
    "\n",
    "        pf.fit(X_train, y_train)\n",
    "\n",
    "        X_polynomial = pf.transform(X_train)\n",
    "\n",
    "        lm2 = LinearRegression()\n",
    "\n",
    "        lm2.fit(X_polynomial, y_train)\n",
    "        \n",
    "        preds_df = pd.DataFrame({'actual': y_train})\n",
    "\n",
    "        preds_df['poly_preds'] = lm2.predict(X_polynomial)\n",
    "\n",
    "        poly_rmse = sqrt(mean_squared_error(preds_df['actual'], preds_df['poly_preds']))\n",
    "\n",
    "        output = {\n",
    "                'degree': i,\n",
    "                'poly_rmse': poly_rmse\n",
    "                 }\n",
    "\n",
    "        metrics.append(output)\n",
    "\n",
    "    df = pd.DataFrame(metrics)    \n",
    "    return df.sort_values('poly_rmse')   \n",
    "linear_poly(X_train, y_train)"
   ]
  },
  {
   "cell_type": "code",
   "execution_count": 70,
   "id": "a2c93cf6",
   "metadata": {},
   "outputs": [
    {
     "data": {
      "text/plain": [
       "(2.8781548878529244, 2.8990045591717584, 2.8781548878529244)"
      ]
     },
     "execution_count": 70,
     "metadata": {},
     "output_type": "execute_result"
    }
   ],
   "source": [
    "def validate_models(X_train_scaled, y_train_unscaled, X_val_scaled, y_val_unscaled):\n",
    "   \n",
    "    lm = LinearRegression()\n",
    "\n",
    "    lm.fit(X_train_scaled, y_train_unscaled)\n",
    "    \n",
    "    lm_val = lm.predict(X_val_scaled)\n",
    "    \n",
    "    val_preds_df = pd.DataFrame({'actual_val': y_val_unscaled})\n",
    "    \n",
    "    val_preds_df['lm_preds'] = lm_val\n",
    "\n",
    "    lm_rmse_val = sqrt(mean_squared_error(val_preds_df['actual_val'], val_preds_df['lm_preds']))\n",
    "\n",
    "    #tweedie model\n",
    "    \n",
    "    tweedie = TweedieRegressor(power = 1)\n",
    "    \n",
    "    tweedie.fit(X_train_scaled, y_train_unscaled)\n",
    "    \n",
    "    tweedie_val = tweedie.predict(X_val_scaled)\n",
    "    \n",
    "    val_preds_df['tweedie_preds']= tweedie_val\n",
    "    \n",
    "    tweedie_rmse_val= sqrt(mean_squared_error(val_preds_df.actual_val, val_preds_df.tweedie_preds))\n",
    "    \n",
    "    #polynomial model\n",
    "    \n",
    "    pf = PolynomialFeatures(degree = 2)\n",
    "    \n",
    "    pf.fit(X_train_scaled, y_train_unscaled)\n",
    "    \n",
    "    X_train = pf.transform(X_train_scaled)\n",
    "    X_val = pf.transform(X_val_scaled)\n",
    "    \n",
    "    lm2 = LinearRegression()\n",
    "    \n",
    "    lm2.fit(X_train_scaled, y_train_unscaled)\n",
    "    \n",
    "    val_preds_df['poly_vals']= lm2.predict(X_val_scaled)\n",
    "    \n",
    "    poly_validate_rmse= sqrt(mean_squared_error(val_preds_df.actual_val, val_preds_df['poly_vals']))\n",
    "\n",
    "    #lasso_lars model\n",
    "    \n",
    "    lasso = LassoLars(alpha = .05 )\n",
    "    \n",
    "    lasso.fit(X_train_scaled, y_train_unscaled)\n",
    "    \n",
    "    lasso_val = lasso.predict(X_val_scaled)\n",
    "    \n",
    "    val_preds_df['lasso_preds'] = lasso_val\n",
    "\n",
    "    lasso_rmse_val = sqrt(mean_squared_error(val_preds_df.actual_val, val_preds_df['lasso_preds']))\n",
    "    \n",
    "    \n",
    "    return lm_rmse_val,lasso_rmse_val, poly_validate_rmse\n",
    "validate_models(X_train_scaled, y_train_unscaled, X_val_scaled, y_val_unscaled)"
   ]
  },
  {
   "cell_type": "code",
   "execution_count": 71,
   "id": "be30095a",
   "metadata": {},
   "outputs": [],
   "source": [
    "def test_model(X_train_scaled, y_train_unscaled, X_test_scaled, y_test_unscaled):\n",
    "\n",
    "    lm = LinearRegression()\n",
    "\n",
    "    lm.fit(X_train_scaled, y_train_unscaled)\n",
    "    \n",
    "    lm_preds = lm.predict(X_test_scaled)\n",
    "\n",
    "    test_preds_df = pd.DataFrame({'actual_test': y_test_unscaled})\n",
    "\n",
    "    test_preds_df['linear_test'] = lm.predict(X_test_scaled)\n",
    "\n",
    "    linear_test_rmse = sqrt(mean_squared_error(test_preds_df.actual_test, test_preds_df['linear_test']))\n",
    "    \n",
    "    return linear_test_rmse"
   ]
  },
  {
   "cell_type": "code",
   "execution_count": 72,
   "id": "fec82849",
   "metadata": {},
   "outputs": [
    {
     "data": {
      "text/plain": [
       "2.8406059076248216"
      ]
     },
     "execution_count": 72,
     "metadata": {},
     "output_type": "execute_result"
    }
   ],
   "source": [
    "test_model(X_train_scaled, y_train_unscaled, X_test_scaled, y_test_unscaled)"
   ]
  },
  {
   "cell_type": "code",
   "execution_count": 73,
   "id": "65474ceb",
   "metadata": {},
   "outputs": [],
   "source": [
    "def best_models(X_train_scaled, y_train_unscaled, X_val_scaled, y_val_unscaled):\n",
    "    \n",
    "    lm_rmse = linear_model(X_train_scaled, y_train_unscaled).iloc[0,1]\n",
    "    \n",
    "    lasso_rmse = lasso_lars(X_train_scaled, y_train_unscaled).iloc[0,1]\n",
    "    \n",
    "    #tweedie_rmse = tweedie_models(X_train, y_train).iloc[0,1]\n",
    "        \n",
    "    poly_rmse = linear_poly(X_train, y_train_unscaled).iloc[1,1]\n",
    "    \n",
    "    baseline_rmse = baseline(y_train_unscaled)\n",
    "    \n",
    "    lm_rmse_val, lasso_rmse_val, poly_validate_rmse = validate_models(X_train_scaled, y_train_unscaled,\n",
    "                                                                      X_val_scaled, y_val_unscaled)\n",
    "    \n",
    "    df = pd.DataFrame({'model': ['linear', 'lasso_lars','linear_poly', 'baseline'],\n",
    "                      'train_rmse': [lm_rmse, lasso_rmse, poly_rmse,  baseline_rmse],\n",
    "                      'validate_rmse': [lm_rmse_val, lasso_rmse_val, poly_validate_rmse, baseline_rmse]})\n",
    "    \n",
    "    df['difference'] = df['train_rmse'] - df['validate_rmse']\n",
    "    \n",
    "    return df.sort_values('difference').reset_index().drop(columns = ('index'))\n",
    "best_mods= best_models(X_train_scaled, y_train_unscaled, X_val_scaled, y_val_unscaled)"
   ]
  },
  {
   "cell_type": "code",
   "execution_count": 74,
   "id": "bcc90757",
   "metadata": {},
   "outputs": [
    {
     "data": {
      "text/html": [
       "<div>\n",
       "<style scoped>\n",
       "    .dataframe tbody tr th:only-of-type {\n",
       "        vertical-align: middle;\n",
       "    }\n",
       "\n",
       "    .dataframe tbody tr th {\n",
       "        vertical-align: top;\n",
       "    }\n",
       "\n",
       "    .dataframe thead th {\n",
       "        text-align: right;\n",
       "    }\n",
       "</style>\n",
       "<table border=\"1\" class=\"dataframe\">\n",
       "  <thead>\n",
       "    <tr style=\"text-align: right;\">\n",
       "      <th></th>\n",
       "      <th>model</th>\n",
       "      <th>train_rmse</th>\n",
       "      <th>validate_rmse</th>\n",
       "      <th>difference</th>\n",
       "    </tr>\n",
       "  </thead>\n",
       "  <tbody>\n",
       "    <tr>\n",
       "      <th>0</th>\n",
       "      <td>linear_poly</td>\n",
       "      <td>2.814235</td>\n",
       "      <td>2.878155</td>\n",
       "      <td>-0.063920</td>\n",
       "    </tr>\n",
       "    <tr>\n",
       "      <th>1</th>\n",
       "      <td>linear</td>\n",
       "      <td>2.840606</td>\n",
       "      <td>2.878155</td>\n",
       "      <td>-0.037549</td>\n",
       "    </tr>\n",
       "    <tr>\n",
       "      <th>2</th>\n",
       "      <td>lasso_lars</td>\n",
       "      <td>2.863248</td>\n",
       "      <td>2.899005</td>\n",
       "      <td>-0.035757</td>\n",
       "    </tr>\n",
       "    <tr>\n",
       "      <th>3</th>\n",
       "      <td>baseline</td>\n",
       "      <td>2.863248</td>\n",
       "      <td>2.863248</td>\n",
       "      <td>0.000000</td>\n",
       "    </tr>\n",
       "  </tbody>\n",
       "</table>\n",
       "</div>"
      ],
      "text/plain": [
       "         model  train_rmse  validate_rmse  difference\n",
       "0  linear_poly    2.814235       2.878155   -0.063920\n",
       "1       linear    2.840606       2.878155   -0.037549\n",
       "2   lasso_lars    2.863248       2.899005   -0.035757\n",
       "3     baseline    2.863248       2.863248    0.000000"
      ]
     },
     "execution_count": 74,
     "metadata": {},
     "output_type": "execute_result"
    }
   ],
   "source": [
    "best_mods"
   ]
  },
  {
   "cell_type": "code",
   "execution_count": 121,
   "id": "512133d7",
   "metadata": {},
   "outputs": [
    {
     "data": {
      "image/png": "[encoded data removed]",
      "text/plain": [
       "<Figure size 900x550 with 1 Axes>"
      ]
     },
     "metadata": {},
     "output_type": "display_data"
    }
   ],
   "source": [
    " def plot_model():\n",
    "        \n",
    "    color= ['grey', 'grey', 'grey', 'firebrick']\n",
    "    ax = sns.barplot(x='model', y='validate_rmse',\n",
    "                 data= best_mods,\n",
    "                 palette= color,\n",
    "                 errwidth=0, ec= 'black')\n",
    "    for i in ax.containers:\n",
    "        ax.bar_label(i,)\n",
    "plot_model()"
   ]
  },
  {
   "cell_type": "code",
   "execution_count": 92,
   "id": "0079f193",
   "metadata": {},
   "outputs": [],
   "source": [
    "def best_model(X_train, y_train, X_val, y_val, X_test, y_test):\n",
    "    \n",
    "    df = best_models(X_train, y_train, X_val, y_val).iloc[1]\n",
    "    \n",
    "    df['test_rmse'] = test_model(X_train, y_train, X_test, y_test)\n",
    "    \n",
    "    df = pd.DataFrame(df).T\n",
    "    \n",
    "    #df = df.drop(columns = ['difference'])\n",
    "\n",
    "    return df\n",
    "test_mod= best_model(X_train, y_train, X_val, y_val, X_test, y_test)"
   ]
  },
  {
   "cell_type": "code",
   "execution_count": 88,
   "id": "b251bd4c",
   "metadata": {},
   "outputs": [],
   "source": [
    "best_mods.difference= best_mods.difference.astype(float)\n",
    "best"
   ]
  }
 ],
 "metadata": {
  "kernelspec": {
   "display_name": "Python 3 (ipykernel)",
   "language": "python",
   "name": "python3"
  },
  "language_info": {
   "codemirror_mode": {
    "name": "ipython",
    "version": 3
   },
   "file_extension": ".py",
   "mimetype": "text/x-python",
   "name": "python",
   "nbconvert_exporter": "python",
   "pygments_lexer": "ipython3",
   "version": "3.9.13"
  }
 },
 "nbformat": 4,
 "nbformat_minor": 5
}
